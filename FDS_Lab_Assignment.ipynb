{
 "cells": [
  {
   "cell_type": "markdown",
   "metadata": {},
   "source": [
    "### Importing Libraries"
   ]
  },
  {
   "cell_type": "code",
   "execution_count": 1,
   "metadata": {},
   "outputs": [],
   "source": [
    "import pandas as pd\n",
    "import numpy as np\n",
    "import matplotlib.pyplot as plt\n",
    "import seaborn as sb\n",
    "from scipy.stats import skew\n",
    "from scipy.stats import kurtosis"
   ]
  },
  {
   "cell_type": "code",
   "execution_count": 2,
   "metadata": {},
   "outputs": [],
   "source": [
    "pd.set_option(\"display.max_columns\",None)#To see all the columns which are present in the dataset"
   ]
  },
  {
   "cell_type": "markdown",
   "metadata": {},
   "source": [
    "### Reading dataset"
   ]
  },
  {
   "cell_type": "code",
   "execution_count": 3,
   "metadata": {},
   "outputs": [
    {
     "data": {
      "text/html": [
       "<div>\n",
       "<style scoped>\n",
       "    .dataframe tbody tr th:only-of-type {\n",
       "        vertical-align: middle;\n",
       "    }\n",
       "\n",
       "    .dataframe tbody tr th {\n",
       "        vertical-align: top;\n",
       "    }\n",
       "\n",
       "    .dataframe thead th {\n",
       "        text-align: right;\n",
       "    }\n",
       "</style>\n",
       "<table border=\"1\" class=\"dataframe\">\n",
       "  <thead>\n",
       "    <tr style=\"text-align: right;\">\n",
       "      <th></th>\n",
       "      <th>fname</th>\n",
       "      <th>age</th>\n",
       "      <th>grade</th>\n",
       "    </tr>\n",
       "  </thead>\n",
       "  <tbody>\n",
       "    <tr>\n",
       "      <th>0</th>\n",
       "      <td>Baker</td>\n",
       "      <td>14</td>\n",
       "      <td>90</td>\n",
       "    </tr>\n",
       "    <tr>\n",
       "      <th>1</th>\n",
       "      <td>Josephine</td>\n",
       "      <td>19</td>\n",
       "      <td>100</td>\n",
       "    </tr>\n",
       "    <tr>\n",
       "      <th>2</th>\n",
       "      <td>Calvin</td>\n",
       "      <td>15</td>\n",
       "      <td>66</td>\n",
       "    </tr>\n",
       "    <tr>\n",
       "      <th>3</th>\n",
       "      <td>Aretha</td>\n",
       "      <td>17</td>\n",
       "      <td>84</td>\n",
       "    </tr>\n",
       "    <tr>\n",
       "      <th>4</th>\n",
       "      <td>Britanney</td>\n",
       "      <td>19</td>\n",
       "      <td>66</td>\n",
       "    </tr>\n",
       "  </tbody>\n",
       "</table>\n",
       "</div>"
      ],
      "text/plain": [
       "       fname  age  grade\n",
       "0      Baker   14     90\n",
       "1  Josephine   19    100\n",
       "2     Calvin   15     66\n",
       "3     Aretha   17     84\n",
       "4  Britanney   19     66"
      ]
     },
     "execution_count": 3,
     "metadata": {},
     "output_type": "execute_result"
    }
   ],
   "source": [
    "df=pd.read_excel(\"data1.xlsx\")\n",
    "df.head()"
   ]
  },
  {
   "cell_type": "markdown",
   "metadata": {},
   "source": [
    "### Measures of Central Tendency\n",
    "- Mean \n",
    "- Median \n",
    "- Mode"
   ]
  },
  {
   "cell_type": "code",
   "execution_count": 4,
   "metadata": {},
   "outputs": [
    {
     "name": "stdout",
     "output_type": "stream",
     "text": [
      "*Mean of columns age and grade*\n",
      "age      16.28\n",
      "grade    82.79\n",
      "dtype: float64\n",
      "*Median of columns age and grade*\n",
      "age      16.0\n",
      "grade    81.5\n",
      "dtype: float64\n",
      "*Mode of columns age and grade*\n",
      "  fname  age  grade\n",
      "0  Emma   14     69\n"
     ]
    }
   ],
   "source": [
    "df_mean=df.mean()\n",
    "print(\"*Mean of columns age and grade*\")\n",
    "print(df_mean)\n",
    "df_median=df.median()\n",
    "print(\"*Median of columns age and grade*\")\n",
    "print(df_median)\n",
    "df_mode=df.mode()\n",
    "print(\"*Mode of columns age and grade*\")\n",
    "print(df_mode)"
   ]
  },
  {
   "cell_type": "markdown",
   "metadata": {},
   "source": [
    "#### Measures of Variability \n",
    "- Standard Deviation\n",
    "- Variance\n",
    "- Min and Max Variables\n"
   ]
  },
  {
   "cell_type": "code",
   "execution_count": 5,
   "metadata": {},
   "outputs": [
    {
     "name": "stdout",
     "output_type": "stream",
     "text": [
      "Standard deviation of columns age and grade\n",
      "age       1.752804\n",
      "grade    10.915928\n",
      "dtype: float64\n",
      "Variance of columns age and grade  \n",
      "age        3.072323\n",
      "grade    119.157475\n",
      "dtype: float64\n",
      "The Minimum value are\n",
      "fname    Adrienne\n",
      "age            14\n",
      "grade          65\n",
      "dtype: object\n",
      "The Maximum value are\n",
      "fname    Zia\n",
      "age       19\n",
      "grade    100\n",
      "dtype: object\n"
     ]
    }
   ],
   "source": [
    "print(\"Standard deviation of columns age and grade\")\n",
    "print(df.std())\n",
    "print(\"Variance of columns age and grade  \")\n",
    "print(df.var())\n",
    "print(\"The Minimum value are\" )\n",
    "print(df.min())\n",
    "print(\"The Maximum value are\" )\n",
    "print(df.max())"
   ]
  },
  {
   "cell_type": "markdown",
   "metadata": {},
   "source": [
    "- Skewness and Kurtosis\n"
   ]
  },
  {
   "cell_type": "code",
   "execution_count": 6,
   "metadata": {},
   "outputs": [
    {
     "name": "stdout",
     "output_type": "stream",
     "text": [
      "The skewness of column age is :  0.1891005591179678\n",
      "The skewness of column grade is :  0.0923141826958847\n"
     ]
    }
   ],
   "source": [
    "age_skew=skew(df[\"age\"])\n",
    "grade_skew=skew(df[\"grade\"])\n",
    "print(\"The skewness of column age is : \",age_skew)\n",
    "print(\"The skewness of column grade is : \",grade_skew)"
   ]
  },
  {
   "cell_type": "code",
   "execution_count": 7,
   "metadata": {},
   "outputs": [
    {
     "name": "stdout",
     "output_type": "stream",
     "text": [
      "The kurtosis of column age is  -1.2143532529876444\n",
      "The kurtosis of column grade is  -1.3309524922789433\n"
     ]
    }
   ],
   "source": [
    "age_kurtosis=kurtosis(df[\"age\"])\n",
    "print(\"The kurtosis of column age is \",age_kurtosis)\n",
    "grade_kurtosis=kurtosis(df[\"grade\"])\n",
    "print(\"The kurtosis of column grade is \",grade_kurtosis)"
   ]
  },
  {
   "cell_type": "markdown",
   "metadata": {},
   "source": [
    "- Range"
   ]
  },
  {
   "cell_type": "code",
   "execution_count": 8,
   "metadata": {},
   "outputs": [
    {
     "name": "stdout",
     "output_type": "stream",
     "text": [
      "The range of column age is : 5\n"
     ]
    }
   ],
   "source": [
    "age_range=(df[\"age\"].max())-(df[\"age\"].min())\n",
    "print(\"The range of column age is :\",age_range)"
   ]
  },
  {
   "cell_type": "code",
   "execution_count": 9,
   "metadata": {},
   "outputs": [
    {
     "name": "stdout",
     "output_type": "stream",
     "text": [
      "The range of column grade is : 35\n"
     ]
    }
   ],
   "source": [
    "grade_range=(df[\"grade\"].max())-(df[\"grade\"].min())\n",
    "print(\"The range of column grade is :\",grade_range)"
   ]
  },
  {
   "cell_type": "markdown",
   "metadata": {},
   "source": [
    "- Percentiles/Quartiles\n"
   ]
  },
  {
   "cell_type": "code",
   "execution_count": 10,
   "metadata": {},
   "outputs": [
    {
     "name": "stdout",
     "output_type": "stream",
     "text": [
      "50th percentile of age column is: 16.0\n",
      "25th percentile of age column is: 15.0\n",
      "75th percentile of age column is: 18.0\n"
     ]
    }
   ],
   "source": [
    "print(\"50th percentile of age column is:\",np.percentile(df[\"age\"],50))\n",
    "print(\"25th percentile of age column is:\",np.percentile(df[\"age\"],25))\n",
    "print(\"75th percentile of age column is:\",np.percentile(df[\"age\"],75))"
   ]
  },
  {
   "cell_type": "code",
   "execution_count": 11,
   "metadata": {},
   "outputs": [
    {
     "name": "stdout",
     "output_type": "stream",
     "text": [
      "50th percentile of grade column is: 81.5\n",
      "25th percentile of grade column is: 73.0\n",
      "75th percentile of grade column is: 92.0\n"
     ]
    }
   ],
   "source": [
    "print(\"50th percentile of grade column is:\",np.percentile(df[\"grade\"],50))\n",
    "print(\"25th percentile of grade column is:\",np.percentile(df[\"grade\"],25))\n",
    "print(\"75th percentile of grade column is:\",np.percentile(df[\"grade\"],75))"
   ]
  },
  {
   "cell_type": "code",
   "execution_count": 12,
   "metadata": {},
   "outputs": [
    {
     "name": "stdout",
     "output_type": "stream",
     "text": [
      "Q2th quantile of age column is :  16.0\n",
      "Q1th quantile of age column is :  15.0\n",
      "Q3th quantile of age column is :  18.0\n"
     ]
    }
   ],
   "source": [
    "print(\"Q2th quantile of age column is : \",np.quantile(df[\"age\"],.50))\n",
    "print(\"Q1th quantile of age column is : \",np.quantile(df[\"age\"],.25))\n",
    "print(\"Q3th quantile of age column is : \",np.quantile(df[\"age\"],.75))"
   ]
  },
  {
   "cell_type": "code",
   "execution_count": 13,
   "metadata": {},
   "outputs": [
    {
     "name": "stdout",
     "output_type": "stream",
     "text": [
      "Q2 quantile of grade column is :  81.5\n",
      "Q1th quantile of grade column is :  73.0\n",
      "Q3 quantile of grade column is :  92.0\n"
     ]
    }
   ],
   "source": [
    "print(\"Q2 quantile of grade column is : \",np.quantile(df[\"grade\"],.50))\n",
    "print(\"Q1th quantile of grade column is : \",np.quantile(df[\"grade\"],.25))\n",
    "print(\"Q3 quantile of grade column is : \",np.quantile(df[\"grade\"],.75))"
   ]
  },
  {
   "cell_type": "markdown",
   "metadata": {},
   "source": [
    "- Box Plots"
   ]
  },
  {
   "cell_type": "code",
   "execution_count": 17,
   "metadata": {},
   "outputs": [
    {
     "data": {
      "image/png": "[encoded data removed]",
      "text/plain": [
       "<Figure size 432x288 with 2 Axes>"
      ]
     },
     "metadata": {
      "needs_background": "light"
     },
     "output_type": "display_data"
    }
   ],
   "source": [
    "plt.figure()\n",
    "plt.subplot(1,2,1)\n",
    "df.boxplot(column=\"age\")\n",
    "plt.subplot(1,2,2)\n",
    "df.boxplot(column=\"grade\")\n",
    "plt.show()"
   ]
  },
  {
   "cell_type": "code",
   "execution_count": null,
   "metadata": {},
   "outputs": [],
   "source": []
  }
 ],
 "metadata": {
  "kernelspec": {
   "display_name": "Python 3",
   "language": "python",
   "name": "python3"
  },
  "language_info": {
   "codemirror_mode": {
    "name": "ipython",
    "version": 3
   },
   "file_extension": ".py",
   "mimetype": "text/x-python",
   "name": "python",
   "nbconvert_exporter": "python",
   "pygments_lexer": "ipython3",
   "version": "3.8.3"
  }
 },
 "nbformat": 4,
 "nbformat_minor": 4
}
